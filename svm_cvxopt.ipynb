{
 "cells": [
  {
   "cell_type": "code",
   "execution_count": 12,
   "metadata": {
    "collapsed": false
   },
   "outputs": [],
   "source": [
    "import numpy as np\n",
    "import matplotlib.pyplot as plt\n",
    "import cvxopt\n",
    "import seaborn as sns\n",
    "%matplotlib inline \n",
    "#This line helped me draw the plot\n",
    "#%matplotlib notebook"
   ]
  },
  {
   "cell_type": "code",
   "execution_count": 13,
   "metadata": {
    "collapsed": true
   },
   "outputs": [],
   "source": [
    "# Generating two points to construct the line\n",
    "x1_targetf = np.random.uniform(-1,1,2)\n",
    "x2_targetf = np.random.uniform(-1,1,2)\n",
    "\n",
    "# Computing the slope m and the y-intercept b\n",
    "m = (x2_targetf[1]-x2_targetf[0])/(x1_targetf[1]-x1_targetf[0])\n",
    "b_target = x2_targetf[0] - m * x1_targetf[0]\n",
    "\n",
    "# Computing the x2 value of the extremities of the line knowing that the x1 \n",
    "# values range is [-1, 1]\n",
    "x2_lefttargetf = m*(-1) + b_target\n",
    "x2_righttargetf = m*(1) + b_target"
   ]
  },
  {
   "cell_type": "code",
   "execution_count": 14,
   "metadata": {
    "collapsed": false
   },
   "outputs": [
    {
     "data": {
      "image/png": "[encoded data removed]",
      "text/plain": [
       "<matplotlib.figure.Figure at 0x3a4b03c8>"
      ]
     },
     "metadata": {},
     "output_type": "display_data"
    }
   ],
   "source": [
    "# Plot of target function\n",
    "fig1 = plt.figure()\n",
    "ax1 = fig1.add_subplot(111)\n",
    "ax1.plot([-1,1], [x2_lefttargetf,x2_righttargetf])\n",
    "ax1.axis((-1,1,-1,1))\n",
    "plt.show()"
   ]
  },
  {
   "cell_type": "code",
   "execution_count": 15,
   "metadata": {
    "collapsed": true
   },
   "outputs": [],
   "source": [
    "# Generating N training data points\n",
    "N = 25\n",
    "x1_input = np.random.uniform(-1,1,N)\n",
    "x2_input = np.random.uniform(-1,1,N)"
   ]
  },
  {
   "cell_type": "code",
   "execution_count": 16,
   "metadata": {
    "collapsed": true
   },
   "outputs": [],
   "source": [
    "y_output = []\n",
    "\n",
    "# Computing the y_output (class or category) from the target function\n",
    "for index, each in enumerate(x1_input):\n",
    "    # Computing the value of x2 if it was on the line\n",
    "    x2_line = m*(each) + b_target\n",
    "\n",
    "    # Checking the value of x2 corresponding to that x1 with the x2 from the line\n",
    "    # Assigning a -1 or +1 class to it\n",
    "    if x2_input[index] < x2_line:\n",
    "        y_output.append(-1.0)\n",
    "    else:\n",
    "        y_output.append(1.0)"
   ]
  },
  {
   "cell_type": "code",
   "execution_count": 17,
   "metadata": {
    "collapsed": false
   },
   "outputs": [
    {
     "data": {
      "image/png": "[encoded data removed]",
      "text/plain": [
       "<matplotlib.figure.Figure at 0x3a43a2b0>"
      ]
     },
     "metadata": {},
     "output_type": "display_data"
    }
   ],
   "source": [
    "# Plotting the training points\n",
    "plt.plot([-1,1], [x2_lefttargetf,x2_righttargetf])\n",
    "plt.scatter(\n",
    "    x1_input,\n",
    "    x2_input,\n",
    "    c=y_output,\n",
    "    cmap='bwr',\n",
    "    alpha=1, \n",
    "    s=100, \n",
    "    edgecolors='k'\n",
    "    );\n",
    "plt.axis((-1,1,-1,1))\n",
    "plt.show()"
   ]
  },
  {
   "cell_type": "code",
   "execution_count": 18,
   "metadata": {
    "collapsed": false
   },
   "outputs": [
    {
     "name": "stdout",
     "output_type": "stream",
     "text": [
      "     pcost       dcost       gap    pres   dres\n",
      " 0:  3.8064e+17 -1.1469e+19  2e+19  4e-01  3e-07\n",
      " 1:  5.9634e+17 -1.3664e+18  2e+18  1e-02  2e+01\n",
      " 2:  1.3921e+17 -2.1282e+17  4e+17  1e-03  1e+00\n",
      " 3:  2.1354e+16 -2.6388e+16  5e+16  6e-08  7e-08\n",
      " 4:  3.0873e+15 -3.4899e+15  7e+15  1e-08  6e-08\n",
      " 5:  4.4363e+14 -4.9297e+14  9e+14  4e-08  2e-08\n",
      " 6:  6.3633e+13 -7.0209e+13  1e+14  1e-08  5e-09\n",
      " 7:  9.1217e+12 -1.0040e+13  2e+13  1e-09  2e-09\n",
      " 8:  1.3073e+12 -1.4375e+12  3e+12  3e-10  8e-10\n",
      " 9:  1.8734e+11 -2.0593e+11  4e+11  3e-10  4e-10\n",
      "10:  2.6846e+10 -2.9506e+10  6e+10  7e-11  1e-10\n",
      "11:  3.8469e+09 -4.2281e+09  8e+09  2e-11  6e-11\n",
      "12:  5.5122e+08 -6.0590e+08  1e+09  4e-11  2e-11\n",
      "13:  7.8976e+07 -8.6835e+07  2e+08  3e-11  8e-12\n",
      "14:  1.1313e+07 -1.2448e+07  2e+07  3e-12  4e-12\n",
      "15:  1.6193e+06 -1.7854e+06  3e+06  3e-12  1e-12\n",
      "16:  2.3140e+05 -2.5650e+05  5e+05  4e-13  4e-13\n",
      "17:  3.2911e+04 -3.7002e+04  7e+04  3e-13  2e-13\n",
      "18:  4.6197e+03 -5.3972e+03  1e+04  9e-14  5e-14\n",
      "19:  6.2249e+02 -8.1097e+02  1e+03  1e-14  2e-14\n",
      "20:  7.0662e+01 -1.3241e+02  2e+02  2e-14  8e-15\n",
      "21: -2.6207e+00 -2.8321e+01  3e+01  9e-16  5e-15\n",
      "22: -1.9593e+01 -2.6780e+01  7e+00  1e-15  2e-15\n",
      "23: -2.2029e+01 -2.2935e+01  9e-01  4e-15  2e-15\n",
      "24: -2.2272e+01 -2.2723e+01  5e-01  5e-15  2e-15\n",
      "25: -2.2268e+01 -2.2653e+01  4e-01  6e-15  2e-15\n",
      "26: -2.2447e+01 -2.2454e+01  7e-03  1e-15  3e-15\n",
      "27: -2.2450e+01 -2.2450e+01  7e-05  2e-15  3e-15\n",
      "28: -2.2450e+01 -2.2450e+01  7e-07  4e-15  2e-15\n",
      "Optimal solution found.\n",
      "[  2.66969272e-09   3.81521537e-09   9.87047239e-09   5.43952686e+00\n",
      "   2.24500824e+01   9.32391417e-09   4.75302131e-09   1.70105575e+01\n",
      "   5.50964626e-09   2.60847274e-09   2.93135606e-08   1.95752261e-06\n",
      "   7.25318099e-09   2.18362820e-09   1.82680341e-09   1.79717926e-09\n",
      "   1.81328209e-09   9.92729296e-09   1.78696169e-09   5.48397693e-09\n",
      "   4.61993725e-09   1.08125501e-08   1.37529205e-09   2.17732290e-09\n",
      "   1.04017714e-08]\n"
     ]
    }
   ],
   "source": [
    "# Combining the data vectors into an X matrix of N vectors of features\n",
    "X_svm = np.column_stack((\n",
    "    x1_input,\n",
    "    x2_input\n",
    "    ))\n",
    "# Changing the class list into a Numpy array\n",
    "y_output = np.array(y_output)\n",
    "# Initializing the N x N Gram matrix\n",
    "K = np.zeros(\n",
    "    shape = (\n",
    "        len(x1_input), \n",
    "        len(x1_input)\n",
    "        )\n",
    "    )\n",
    "\n",
    "# Computing the inner products for each pair of vectors\n",
    "for i in range(len(x1_input)):\n",
    "    for j in range(len(x1_input)):\n",
    "        K[i,j] = np.dot(X_svm[i], X_svm[j])\n",
    "\n",
    "# Generating all the matrices and vectors\n",
    "P = cvxopt.matrix(np.outer(y_output, y_output) * K)\n",
    "q = cvxopt.matrix(np.ones(len(x1_input)) * -1)\n",
    "G = cvxopt.matrix(np.vstack([\n",
    "    np.eye(len(x1_input)) * -1,\n",
    "    np.eye(len(x1_input))\n",
    "    ]))\n",
    "h = cvxopt.matrix(np.hstack([\n",
    "    np.zeros(len(x1_input)),\n",
    "    np.ones(len(x1_input)) * 999999999.0\n",
    "    ])) \n",
    "A = cvxopt.matrix(y_output, (1,len(x1_input)))\n",
    "b = cvxopt.matrix(0.0)\n",
    "\n",
    "# Solving the QP problem\n",
    "solution = cvxopt.solvers.qp(P, q, G, h, A, b)\n",
    "\n",
    "# Display the Lagrange multipliers\n",
    "a = np.ravel(solution['x'])\n",
    "print a\n",
    "\n",
    "# Create a boolean list of non-zero alphas\n",
    "ssv = a > 1e-5\n",
    "# Select the index of these alphas. They are the support vectors.\n",
    "ind = np.arange(len(a))[ssv]\n",
    "# Select the corresponding alphas a, support vectors sv and class labels sv_y\n",
    "a = a[ssv]\n",
    "sv = X_svm[ssv]\n",
    "sv_y = y_output[ssv]"
   ]
  },
  {
   "cell_type": "code",
   "execution_count": 19,
   "metadata": {
    "collapsed": false
   },
   "outputs": [
    {
     "data": {
      "image/png": "[encoded data removed]",
      "text/plain": [
       "<matplotlib.figure.Figure at 0x3a428208>"
      ]
     },
     "metadata": {},
     "output_type": "display_data"
    }
   ],
   "source": [
    "# Plotting the support vectors\n",
    "plt.scatter(\n",
    "    sv[:,0],\n",
    "    sv[:,1],\n",
    "    facecolors='none',\n",
    "    s=400, \n",
    "    edgecolors='k'\n",
    "    )\n",
    "plt.plot([-1,1], [x2_lefttargetf,x2_righttargetf])\n",
    "plt.scatter(\n",
    "    x1_input,\n",
    "    x2_input,\n",
    "    c=y_output,\n",
    "    cmap='bwr',\n",
    "    alpha=1, \n",
    "    s=100, \n",
    "    edgecolors='k'\n",
    "    );\n",
    "plt.axis((-1,1,-1,1))\n",
    "plt.show()"
   ]
  },
  {
   "cell_type": "code",
   "execution_count": 20,
   "metadata": {
    "collapsed": false
   },
   "outputs": [
    {
     "name": "stdout",
     "output_type": "stream",
     "text": [
      "w_svm: [-1.55175663  6.51860422]\n",
      "b_svm: -3.84137422047\n"
     ]
    },
    {
     "data": {
      "image/png": "[encoded data removed]",
      "text/plain": [
       "<matplotlib.figure.Figure at 0x3a6f14a8>"
      ]
     },
     "metadata": {},
     "output_type": "display_data"
    }
   ],
   "source": [
    "# Computing the weights w_svm\n",
    "w_svm = np.zeros(X_svm.shape[1])\n",
    "\n",
    "for each in range(len(a)):\n",
    "    w_svm += a[each] * sv_y[each] * sv[each]\n",
    "print 'w_svm:', w_svm\n",
    "\n",
    "# Computing the intercept b_svm\n",
    "b_svm = sv_y[0] - np.dot(w_svm, sv[0])\n",
    "print 'b_svm:', b_svm\n",
    "\n",
    "# Plot of SVM function\n",
    "x2_lefttargeth = -(w_svm[0]*(-1)+b_svm)/w_svm[1]\n",
    "x2_righttargeth = -(w_svm[0]*(1)+b_svm)/w_svm[1]\n",
    "\n",
    "plt.plot([-1,1], [x2_lefttargetf,x2_righttargetf])\n",
    "plt.plot([-1,1], [x2_lefttargeth,x2_righttargeth])\n",
    "\n",
    "plt.scatter(\n",
    "    sv[:,0],\n",
    "    sv[:,1],\n",
    "    facecolors='none',\n",
    "    s=400, \n",
    "    edgecolors='k'\n",
    "    )\n",
    "\n",
    "plt.scatter(\n",
    "    x1_input,\n",
    "    x2_input,\n",
    "    c=y_output,\n",
    "    cmap='bwr',\n",
    "    alpha=1, \n",
    "    s=100, \n",
    "    edgecolors='k'\n",
    "    );\n",
    "plt.axis((-1,1,-1,1))\n",
    "plt.show()"
   ]
  },
  {
   "cell_type": "code",
   "execution_count": null,
   "metadata": {
    "collapsed": true
   },
   "outputs": [],
   "source": []
  }
 ],
 "metadata": {
  "kernelspec": {
   "display_name": "Python 2",
   "language": "python",
   "name": "python2"
  },
  "language_info": {
   "codemirror_mode": {
    "name": "ipython",
    "version": 2
   },
   "file_extension": ".py",
   "mimetype": "text/x-python",
   "name": "python",
   "nbconvert_exporter": "python",
   "pygments_lexer": "ipython2",
   "version": "2.7.11"
  }
 },
 "nbformat": 4,
 "nbformat_minor": 0
}
